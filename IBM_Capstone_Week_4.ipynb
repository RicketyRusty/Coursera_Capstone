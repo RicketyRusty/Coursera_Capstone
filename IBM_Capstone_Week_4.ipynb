{
  "nbformat": 4,
  "nbformat_minor": 0,
  "metadata": {
    "colab": {
      "name": "IBM Capstone Week 4.ipynb",
      "provenance": [],
      "collapsed_sections": [],
      "authorship_tag": "ABX9TyM5jdT9OZH4dyV/EW28Z1+T"
    },
    "kernelspec": {
      "name": "python3",
      "display_name": "Python 3"
    },
    "language_info": {
      "name": "python"
    }
  },
  "cells": [
    {
      "cell_type": "markdown",
      "metadata": {
        "id": "azZOUXVqWsv3"
      },
      "source": [
        "## IBM Data Scinece Captone Project \n",
        "**Name : Anamitra Saikia**\n",
        "\n",
        "# The Battle of Neighborhoods\n",
        "\n",
        "## 1. Introduction/Business Problem\n",
        "\n",
        "  New York and Toronto are some of the most popular cities in the world. People migrate to other places in search of better opportunities and standards of living. A large number of people immigrate to these cities every year. Some people move from Toronto to new york and vice versa. A person moving from one city to another prefers to stay in a similar locality in the new place with similar facilities and venues in the locality, which helps to accommodate to the new place easily and faster. It also makes life easier. The given project compares different localities and presents the localities in both the cities which are similar in terms of venues and facilities available like shops, coffee shops, transportation, services, etc.\n",
        "\n",
        "\n",
        "## 2. Data \n",
        "\n",
        "  The data for the required datasets are collected in different trusted sources.\n",
        "\n",
        "**Toronto Data**\n",
        "\n",
        "The data of postal codes, borough, and neighborhood are scrapped from the Wikipedia [[link]](https://en.wikipedia.org/wiki/List_of_postal_codes_of_Canada:_M) using BeautifulSoup. After cleaning and formatting the dataset it is merged with Longitude and Latitude Dataset provided by Coursera [[Link]](https://cocl.us/Geospatial_data). With the help of Foursquare API, the venues nearby a given neighborhood is obtained.\n",
        "\n",
        "**New York Data**\n",
        "\n",
        "The data of postal codes, borough, and neighborhood are obtained from the given source (Cognitive Class) [[link]](https://cocl.us/new_york_dataset). The data is in JSON which will be converted to a pandas data frame. The data of the borough, neighborhood, latitude, and longitude will be used in this project.\n"
      ]
    }
  ]
}